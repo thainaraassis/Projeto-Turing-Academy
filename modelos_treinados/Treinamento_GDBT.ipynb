{
  "nbformat": 4,
  "nbformat_minor": 0,
  "metadata": {
    "colab": {
      "provenance": []
    },
    "kernelspec": {
      "name": "python3",
      "display_name": "Python 3"
    },
    "language_info": {
      "name": "python"
    }
  },
  "cells": [
    {
      "cell_type": "code",
      "execution_count": null,
      "metadata": {
        "colab": {
          "base_uri": "https://localhost:8080/"
        },
        "id": "cxth77HBDf_a",
        "outputId": "0c80e624-a595-47a2-d247-7c64ab9aa7f0"
      },
      "outputs": [
        {
          "output_type": "stream",
          "name": "stdout",
          "text": [
            "Requirement already satisfied: scikit-optimize in /usr/local/lib/python3.10/dist-packages (0.10.2)\n",
            "Requirement already satisfied: joblib>=0.11 in /usr/local/lib/python3.10/dist-packages (from scikit-optimize) (1.4.2)\n",
            "Requirement already satisfied: pyaml>=16.9 in /usr/local/lib/python3.10/dist-packages (from scikit-optimize) (24.7.0)\n",
            "Requirement already satisfied: numpy>=1.20.3 in /usr/local/lib/python3.10/dist-packages (from scikit-optimize) (1.25.2)\n",
            "Requirement already satisfied: scipy>=1.1.0 in /usr/local/lib/python3.10/dist-packages (from scikit-optimize) (1.11.4)\n",
            "Requirement already satisfied: scikit-learn>=1.0.0 in /usr/local/lib/python3.10/dist-packages (from scikit-optimize) (1.2.2)\n",
            "Requirement already satisfied: packaging>=21.3 in /usr/local/lib/python3.10/dist-packages (from scikit-optimize) (24.1)\n",
            "Requirement already satisfied: PyYAML in /usr/local/lib/python3.10/dist-packages (from pyaml>=16.9->scikit-optimize) (6.0.1)\n",
            "Requirement already satisfied: threadpoolctl>=2.0.0 in /usr/local/lib/python3.10/dist-packages (from scikit-learn>=1.0.0->scikit-optimize) (3.5.0)\n",
            "Acurácia com hiperparâmetros padrão: 0.90\n",
            "Precisão com hiperparâmetros padrão: 0.59\n",
            "Recall com hiperparâmetros padrão: 0.37\n",
            "F1 com hiperparâmetros padrão: 0.45\n",
            "AUC com hiperparâmetros padrão: 0.67\n"
          ]
        }
      ],
      "source": [
        "!pip install scikit-optimize\n",
        "import pandas as pd\n",
        "from sklearn.model_selection import train_test_split\n",
        "from sklearn.ensemble import GradientBoostingClassifier\n",
        "from sklearn.metrics import accuracy_score, precision_score, recall_score, f1_score, roc_auc_score\n",
        "from skopt import BayesSearchCV\n",
        "from skopt.space import Real, Integer\n",
        "from imblearn.combine import SMOTEENN\n",
        "from imblearn.over_sampling import SMOTE\n",
        "\n",
        "\n",
        "pd.set_option('display.max_columns', None)\n",
        "df = pd.read_csv('https://drive.google.com/uc?export=download&id=1Lma-amQu0WjV-PCAr2LOe377H99z4BoR')\n",
        "\n",
        "X = df.drop('y', axis=1)\n",
        "y = df['y']\n",
        "\n",
        "\n",
        "\n",
        "# Dividindo o dataset em treino e teste\n",
        "X_train, X_test, y_train, y_test = train_test_split(X, y, test_size=0.2, random_state=42)\n",
        "\n",
        "# Inicializando o modelo com hiperparâmetros padrão\n",
        "model = GradientBoostingClassifier()\n",
        "\n",
        "# Treinando o modelo\n",
        "model.fit(X_train, y_train)\n",
        "\n",
        "# Fazendo previsões\n",
        "y_pred = model.predict(X_test)\n",
        "\n",
        "# Avaliando a acurácia do modelo\n",
        "accuracy = accuracy_score(y_test, y_pred)\n",
        "precision = precision_score(y_test, y_pred)\n",
        "recall = recall_score(y_test, y_pred)\n",
        "f1 = f1_score(y_test, y_pred)\n",
        "AUC = roc_auc_score(y_test, y_pred)\n",
        "print(f'Acurácia com hiperparâmetros padrão: {accuracy:.2f}')\n",
        "print(f'Precisão com hiperparâmetros padrão: {precision:.2f}')\n",
        "print(f'Recall com hiperparâmetros padrão: {recall:.2f}')\n",
        "print(f'F1 com hiperparâmetros padrão: {f1:.2f}')\n",
        "print(f'AUC com hiperparâmetros padrão: {AUC:.2f}')"
      ]
    },
    {
      "cell_type": "markdown",
      "source": [
        "* Com Resampling SMOTEENN"
      ],
      "metadata": {
        "id": "vAR-yuEAcExt"
      }
    },
    {
      "cell_type": "code",
      "source": [
        "pd.set_option('display.max_columns', None)\n",
        "df = pd.read_csv('https://drive.google.com/uc?export=download&id=1Lma-amQu0WjV-PCAr2LOe377H99z4BoR')\n",
        "\n",
        "X = df.drop('y', axis=1)\n",
        "y = df['y']\n",
        "\n",
        "\n",
        "\n",
        "# Dividindo o dataset em treino e teste\n",
        "X_train, X_test, y_train, y_test = train_test_split(X, y, test_size=0.2, random_state=42)\n",
        "#resampling\n",
        "smote = SMOTEENN(random_state=42)\n",
        "X_train, y_train = smote.fit_resample(X_train, y_train)\n",
        "# Inicializando o modelo com hiperparâmetros padrão\n",
        "model = GradientBoostingClassifier()\n",
        "\n",
        "# Treinando o modelo\n",
        "model.fit(X_train, y_train)\n",
        "\n",
        "# Fazendo previsões\n",
        "y_pred = model.predict(X_test)\n",
        "\n",
        "# Avaliando a acurácia do modelo\n",
        "accuracy = accuracy_score(y_test, y_pred)\n",
        "precision = precision_score(y_test, y_pred)\n",
        "recall = recall_score(y_test, y_pred)\n",
        "f1 = f1_score(y_test, y_pred)\n",
        "AUC = roc_auc_score(y_test, y_pred)\n",
        "print(f'Acurácia com hiperparâmetros padrão: {accuracy:.2f}')\n",
        "print(f'Precisão com hiperparâmetros padrão: {precision:.2f}')\n",
        "print(f'Recall com hiperparâmetros padrão: {recall:.2f}')\n",
        "print(f'F1 com hiperparâmetros padrão: {f1:.2f}')\n",
        "print(f'AUC com hiperparâmetros padrão: {AUC:.2f}')"
      ],
      "metadata": {
        "colab": {
          "base_uri": "https://localhost:8080/"
        },
        "id": "YNddtl_Vb2M9",
        "outputId": "ea965a48-1cc9-4cae-f600-5cad76f0e897"
      },
      "execution_count": null,
      "outputs": [
        {
          "output_type": "stream",
          "name": "stdout",
          "text": [
            "Acurácia com hiperparâmetros padrão: 0.85\n",
            "Precisão com hiperparâmetros padrão: 0.41\n",
            "Recall com hiperparâmetros padrão: 0.82\n",
            "F1 com hiperparâmetros padrão: 0.54\n",
            "AUC com hiperparâmetros padrão: 0.83\n"
          ]
        }
      ]
    },
    {
      "cell_type": "markdown",
      "source": [
        "* Com Resampling SMOTE"
      ],
      "metadata": {
        "id": "qsyasqvWcvmE"
      }
    },
    {
      "cell_type": "code",
      "source": [
        "pd.set_option('display.max_columns', None)\n",
        "df = pd.read_csv('https://drive.google.com/uc?export=download&id=1Lma-amQu0WjV-PCAr2LOe377H99z4BoR')\n",
        "\n",
        "X = df.drop('y', axis=1)\n",
        "y = df['y']\n",
        "\n",
        "\n",
        "\n",
        "# Dividindo o dataset em treino e teste\n",
        "X_train, X_test, y_train, y_test = train_test_split(X, y, test_size=0.2, random_state=42)\n",
        "#resampling\n",
        "smote = SMOTEENN(random_state=42)\n",
        "X_train, y_train = smote.fit_resample(X_train, y_train)\n",
        "# Inicializando o modelo com hiperparâmetros padrão\n",
        "model = GradientBoostingClassifier()\n",
        "\n",
        "# Treinando o modelo\n",
        "model.fit(X_train, y_train)\n",
        "\n",
        "# Fazendo previsões\n",
        "y_pred = model.predict(X_test)\n",
        "\n",
        "# Avaliando a acurácia do modelo\n",
        "accuracy = accuracy_score(y_test, y_pred)\n",
        "precision = precision_score(y_test, y_pred)\n",
        "recall = recall_score(y_test, y_pred)\n",
        "f1 = f1_score(y_test, y_pred)\n",
        "AUC = roc_auc_score(y_test, y_pred)\n",
        "print(f'Acurácia com hiperparâmetros padrão: {accuracy:.2f}')\n",
        "print(f'Precisão com hiperparâmetros padrão: {precision:.2f}')\n",
        "print(f'Recall com hiperparâmetros padrão: {recall:.2f}')\n",
        "print(f'F1 com hiperparâmetros padrão: {f1:.2f}')\n",
        "print(f'AUC com hiperparâmetros padrão: {AUC:.2f}')"
      ],
      "metadata": {
        "colab": {
          "base_uri": "https://localhost:8080/"
        },
        "id": "ggw0Guj7cuql",
        "outputId": "c1815cc3-6edf-4024-e164-a850d57c3fac"
      },
      "execution_count": null,
      "outputs": [
        {
          "output_type": "stream",
          "name": "stdout",
          "text": [
            "Acurácia com hiperparâmetros padrão: 0.85\n",
            "Precisão com hiperparâmetros padrão: 0.41\n",
            "Recall com hiperparâmetros padrão: 0.82\n",
            "F1 com hiperparâmetros padrão: 0.54\n",
            "AUC com hiperparâmetros padrão: 0.83\n"
          ]
        }
      ]
    },
    {
      "cell_type": "markdown",
      "source": [
        "* Otimização de bayes e cross validation"
      ],
      "metadata": {
        "id": "5unPJrJFc4q8"
      }
    },
    {
      "cell_type": "code",
      "source": [
        "# Definindo o espaço de busca dos hiperparâmetros\n",
        "search_space = {\n",
        "    'n_estimators': Integer(100, 500),\n",
        "    'learning_rate': Real(0.01, 0.2, 'log-uniform'),\n",
        "    'max_depth': Integer(3, 10),\n",
        "    'min_samples_split': Integer(2, 20),\n",
        "    'min_samples_leaf': Integer(1, 20),\n",
        "    'subsample': Real(0.6, 1.0)\n",
        "}\n",
        "\n",
        "\n",
        "# Inicializando o BayesSearchCV\n",
        "bayes_search = BayesSearchCV(estimator=model, search_spaces=search_space, n_iter=50, cv=3, n_jobs=-1, verbose=2, random_state=42)\n",
        "\n",
        "# Treinando o BayesSearchCV\n",
        "bayes_search.fit(X_train, y_train)\n",
        "\n",
        "# Obtendo os melhores hiperparâmetros\n",
        "best_params = bayes_search.best_params_\n",
        "print(f'Melhores hiperparâmetros: {best_params}')\n",
        "\n",
        "# Avaliando o modelo com os melhores hiperparâmetros\n",
        "best_model = bayes_search.best_estimator_\n",
        "y_pred_best = best_model.predict(X_test)\n",
        "accuracy_best = accuracy_score(y_test, y_pred_best)\n",
        "print(f'Acurácia com melhores hiperparâmetros: {accuracy_best:.2f}')\n",
        "# o código demora cerca de 2 horas para rodar\n",
        "#melhores parâmetros sem resampling: ('learning_rate', 0.03164796082647757), ('max_depth', 8), ('min_samples_leaf', 3), ('min_samples_split', 14), ('n_estimators', 300), ('subsample', 0.7807321165862303)\n",
        "#melhores parâmetros com resampling: ('learning_rate', 0.029519302007117918), ('max_depth', 10), ('min_samples_leaf', 1), ('min_samples_split', 2), ('n_estimators', 427), ('subsample', 1.0)"
      ],
      "metadata": {
        "colab": {
          "base_uri": "https://localhost:8080/"
        },
        "id": "3z-9Fa03YRB6",
        "outputId": "f9261e8f-7745-41e9-8393-ef8a66a0b8ef"
      },
      "execution_count": null,
      "outputs": [
        {
          "output_type": "stream",
          "name": "stdout",
          "text": [
            "Fitting 3 folds for each of 1 candidates, totalling 3 fits\n",
            "Fitting 3 folds for each of 1 candidates, totalling 3 fits\n",
            "Fitting 3 folds for each of 1 candidates, totalling 3 fits\n",
            "Fitting 3 folds for each of 1 candidates, totalling 3 fits\n",
            "Fitting 3 folds for each of 1 candidates, totalling 3 fits\n",
            "Fitting 3 folds for each of 1 candidates, totalling 3 fits\n",
            "Fitting 3 folds for each of 1 candidates, totalling 3 fits\n",
            "Fitting 3 folds for each of 1 candidates, totalling 3 fits\n",
            "Fitting 3 folds for each of 1 candidates, totalling 3 fits\n",
            "Fitting 3 folds for each of 1 candidates, totalling 3 fits\n",
            "Fitting 3 folds for each of 1 candidates, totalling 3 fits\n",
            "Fitting 3 folds for each of 1 candidates, totalling 3 fits\n",
            "Fitting 3 folds for each of 1 candidates, totalling 3 fits\n",
            "Fitting 3 folds for each of 1 candidates, totalling 3 fits\n",
            "Fitting 3 folds for each of 1 candidates, totalling 3 fits\n",
            "Fitting 3 folds for each of 1 candidates, totalling 3 fits\n",
            "Fitting 3 folds for each of 1 candidates, totalling 3 fits\n",
            "Fitting 3 folds for each of 1 candidates, totalling 3 fits\n",
            "Fitting 3 folds for each of 1 candidates, totalling 3 fits\n",
            "Fitting 3 folds for each of 1 candidates, totalling 3 fits\n",
            "Fitting 3 folds for each of 1 candidates, totalling 3 fits\n",
            "Fitting 3 folds for each of 1 candidates, totalling 3 fits\n",
            "Fitting 3 folds for each of 1 candidates, totalling 3 fits\n",
            "Fitting 3 folds for each of 1 candidates, totalling 3 fits\n",
            "Fitting 3 folds for each of 1 candidates, totalling 3 fits\n",
            "Fitting 3 folds for each of 1 candidates, totalling 3 fits\n",
            "Fitting 3 folds for each of 1 candidates, totalling 3 fits\n",
            "Fitting 3 folds for each of 1 candidates, totalling 3 fits\n",
            "Fitting 3 folds for each of 1 candidates, totalling 3 fits\n",
            "Fitting 3 folds for each of 1 candidates, totalling 3 fits\n",
            "Fitting 3 folds for each of 1 candidates, totalling 3 fits\n",
            "Fitting 3 folds for each of 1 candidates, totalling 3 fits\n",
            "Fitting 3 folds for each of 1 candidates, totalling 3 fits\n",
            "Fitting 3 folds for each of 1 candidates, totalling 3 fits\n",
            "Fitting 3 folds for each of 1 candidates, totalling 3 fits\n",
            "Fitting 3 folds for each of 1 candidates, totalling 3 fits\n",
            "Fitting 3 folds for each of 1 candidates, totalling 3 fits\n",
            "Fitting 3 folds for each of 1 candidates, totalling 3 fits\n",
            "Fitting 3 folds for each of 1 candidates, totalling 3 fits\n",
            "Fitting 3 folds for each of 1 candidates, totalling 3 fits\n",
            "Fitting 3 folds for each of 1 candidates, totalling 3 fits\n",
            "Fitting 3 folds for each of 1 candidates, totalling 3 fits\n",
            "Fitting 3 folds for each of 1 candidates, totalling 3 fits\n",
            "Fitting 3 folds for each of 1 candidates, totalling 3 fits\n",
            "Fitting 3 folds for each of 1 candidates, totalling 3 fits\n",
            "Fitting 3 folds for each of 1 candidates, totalling 3 fits\n",
            "Fitting 3 folds for each of 1 candidates, totalling 3 fits\n",
            "Fitting 3 folds for each of 1 candidates, totalling 3 fits\n",
            "Fitting 3 folds for each of 1 candidates, totalling 3 fits\n",
            "Fitting 3 folds for each of 1 candidates, totalling 3 fits\n",
            "Melhores hiperparâmetros: OrderedDict([('learning_rate', 0.029519302007117918), ('max_depth', 10), ('min_samples_leaf', 1), ('min_samples_split', 2), ('n_estimators', 427), ('subsample', 1.0)])\n",
            "Acurácia com melhores hiperparâmetros: 0.87\n"
          ]
        }
      ]
    },
    {
      "cell_type": "code",
      "source": [
        "from sklearn.metrics import accuracy_score, precision_score, recall_score, f1_score, roc_auc_score\n",
        "\n",
        "best_model = bayes_search.best_estimator_\n",
        "y_pred_best = best_model.predict(X_test)\n",
        "y_prob_best = best_model.predict_proba(X_test)[:, 1]\n",
        "precision_best = precision_score(y_test, y_pred_best)\n",
        "recall_best = recall_score(y_test, y_pred_best)\n",
        "f1_best = f1_score(y_test, y_pred_best)\n",
        "roc_auc_best = roc_auc_score(y_test, y_prob_best)\n",
        "print(f'Precisão: {precision_best:.2f}')\n",
        "print(f'Revocação: {recall_best:.2f}')\n",
        "print(f'F1-score: {f1_best:.2f}')\n",
        "print(f'AUC-ROC: {roc_auc_best:.2f}')"
      ],
      "metadata": {
        "colab": {
          "base_uri": "https://localhost:8080/"
        },
        "id": "LGRNXRz-3-_d",
        "outputId": "8bc978cf-0c58-428d-a2ee-9f12946c6530"
      },
      "execution_count": null,
      "outputs": [
        {
          "output_type": "stream",
          "name": "stdout",
          "text": [
            "Precisão: 0.46\n",
            "Revocação: 0.75\n",
            "F1-score: 0.57\n",
            "AUC-ROC: 0.91\n"
          ]
        }
      ]
    }
  ]
}
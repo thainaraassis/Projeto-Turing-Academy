{
  "nbformat": 4,
  "nbformat_minor": 0,
  "metadata": {
    "colab": {
      "provenance": []
    },
    "kernelspec": {
      "name": "python3",
      "display_name": "Python 3"
    },
    "language_info": {
      "name": "python"
    }
  },
  "cells": [
    {
      "cell_type": "code",
      "execution_count": null,
      "metadata": {
        "id": "MIP03Sh7yi7m"
      },
      "outputs": [],
      "source": [
        "import pandas as pd\n",
        "import numpy as np\n",
        "import matplotlib.pyplot as plt\n",
        "import seaborn as sns\n",
        "from sklearn.metrics import accuracy_score, precision_score, recall_score, f1_score, roc_auc_score, confusion_matrix, classification_report\n",
        "\n",
        "df = pd.read_csv('https://drive.google.com/uc?export=download&id=1Lma-amQu0WjV-PCAr2LOe377H99z4BoR')"
      ]
    },
    {
      "cell_type": "markdown",
      "source": [
        "Separando os dados de Teste( sem Otimização)\n"
      ],
      "metadata": {
        "id": "aRsB-tj1ypnj"
      }
    },
    {
      "cell_type": "code",
      "source": [
        "# As features numéricas já estão em uma mesma escala e as categóricas já passaram pelo one-hot encoding\n",
        "from sklearn.model_selection import train_test_split\n",
        "\n",
        "X = df.drop('y', axis = 1)\n",
        "y = df['y']\n",
        "\n",
        "X_train, X_test, y_train, y_test = train_test_split(X, y, test_size = 0.2, random_state = 42)"
      ],
      "metadata": {
        "id": "dFO7PcM3yu_7"
      },
      "execution_count": null,
      "outputs": []
    },
    {
      "cell_type": "code",
      "source": [
        "# Importar e armazenar modelo\n",
        "from sklearn.ensemble import RandomForestClassifier\n",
        "rf = RandomForestClassifier(random_state=42)\n",
        "# Treinar modelo\n",
        "rf.fit(X_train, y_train)\n",
        "# Fazer predição\n",
        "y_pred_rf = rf.predict(X_test)\n",
        "# Avaliando acurácia, precisão, recall, área abaixo da curva ROC, f1\n",
        "y_pred_rf_proba = rf.predict_proba(X_test)[:, 1]\n",
        "rf_accuracy = accuracy_score(y_test, y_pred_rf)\n",
        "rf_precision = precision_score(y_test, y_pred_rf)\n",
        "rf_recall = recall_score(y_test, y_pred_rf)\n",
        "rf_roc_auc = roc_auc_score(y_test, y_pred_rf_proba)\n",
        "rf_f1 = f1_score(y_test, y_pred_rf)\n",
        "\n",
        "print(\"Random Forest Classifier:\")\n",
        "print(f'Acurácia: {rf_accuracy:.2f}')\n",
        "print(f'Precisão: {rf_precision:.2f}')\n",
        "print(f'Recall: {rf_recall:.2f}')\n",
        "print(f'Roc_Auc: {rf_roc_auc:.2f}')\n",
        "print(f'F1: {rf_f1:.2f}')\n",
        "print(classification_report(y_test, y_pred_rf))\n",
        "\n",
        "print(\"\\nmatriz de confusão\")\n",
        "matrix = confusion_matrix(y_test, y_pred_rf)\n",
        "sns.heatmap(matrix, annot=True, cmap='Purples')"
      ],
      "metadata": {
        "colab": {
          "base_uri": "https://localhost:8080/",
          "height": 742
        },
        "id": "SWrwRM9HyzXq",
        "outputId": "427d5fdd-be32-4b95-d36c-f5239031cdaf"
      },
      "execution_count": null,
      "outputs": [
        {
          "output_type": "stream",
          "name": "stdout",
          "text": [
            "Random Forest Classifier:\n",
            "Acurácia: 0.90\n",
            "Precisão: 0.59\n",
            "Recall: 0.37\n",
            "Roc_Auc: 0.91\n",
            "F1: 0.45\n",
            "              precision    recall  f1-score   support\n",
            "\n",
            "         0.0       0.92      0.97      0.95      7061\n",
            "         1.0       0.59      0.37      0.45       889\n",
            "\n",
            "    accuracy                           0.90      7950\n",
            "   macro avg       0.76      0.67      0.70      7950\n",
            "weighted avg       0.89      0.90      0.89      7950\n",
            "\n",
            "\n",
            "matriz de confusão\n"
          ]
        },
        {
          "output_type": "execute_result",
          "data": {
            "text/plain": [
              "<Axes: >"
            ]
          },
          "metadata": {},
          "execution_count": 3
        },
        {
          "output_type": "display_data",
          "data": {
            "text/plain": [
              "<Figure size 640x480 with 2 Axes>"
            ],
            "image/png": "[encoded data removed]"
          },
          "metadata": {}
        }
      ]
    },
    {
      "cell_type": "markdown",
      "source": [
        "Treinando a Random Forest Com Otimização\n"
      ],
      "metadata": {
        "id": "BHxFw2SJzhiD"
      }
    },
    {
      "cell_type": "code",
      "source": [
        "!pip install scikit-optimize\n",
        "from imblearn.combine import SMOTEENN\n",
        "from imblearn.over_sampling import SMOTE\n",
        "from skopt import BayesSearchCV\n",
        "\n",
        "\n",
        "\n",
        "df = pd.read_csv('https://drive.google.com/uc?export=download&id=1Lma-amQu0WjV-PCAr2LOe377H99z4BoR')\n",
        "\n",
        "X = df.drop('y', axis=1)\n",
        "y = df['y']\n",
        "\n",
        "\n",
        "# Dividir o dataset\n",
        "X_train, X_test, y_train, y_test = train_test_split(X, y, test_size=0.2, random_state=42)\n",
        "smote = SMOTEENN(random_state=42)\n",
        "X_train, y_train = smote.fit_resample(X_train, y_train)\n",
        "\n",
        "# Definir o modelo\n",
        "rf = RandomForestClassifier(random_state=42)\n",
        "\n",
        "# Definir a pesquisa de hiperparâmetros com otimização Bayesiana\n",
        "param_dist = {\n",
        "    'n_estimators': (10, 500),\n",
        "    'max_depth': (1, 50),\n",
        "    'min_samples_split': (2, 20),\n",
        "    'min_samples_leaf': (1, 20),\n",
        "    'max_features': (0.1, 0.99)\n",
        "}\n",
        "\n",
        "# Definir o BayesSearchCV\n",
        "opt = BayesSearchCV(\n",
        "    estimator=rf,\n",
        "    search_spaces=param_dist,\n",
        "    n_iter=32,\n",
        "    cv=5,\n",
        "    n_jobs=-1,\n",
        "    random_state=42\n",
        ")\n",
        "\n",
        "# Treinar o modelo com cross-validation e otimização Bayesiana\n",
        "opt.fit(X_train, y_train)\n",
        "\n",
        "# Fazer predição\n",
        "y_pred_rf = opt.predict(X_test)\n",
        "\n",
        "# Avaliando acurácia, precisão, recall, área abaixo da curva ROC, f1\n",
        "y_pred_rf_proba = opt.predict_proba(X_test)[:, 1]\n",
        "rf_accuracy = accuracy_score(y_test, y_pred_rf)\n",
        "rf_precision = precision_score(y_test, y_pred_rf)\n",
        "rf_recall = recall_score(y_test, y_pred_rf)\n",
        "rf_roc_auc = roc_auc_score(y_test, y_pred_rf_proba)\n",
        "rf_f1 = f1_score(y_test, y_pred_rf)\n",
        "\n",
        "print(\"Random Forest Classifier (Bayesian Optimization):\")\n",
        "print(f'Acurácia: {rf_accuracy:.2f}')\n",
        "print(f'Precisão: {rf_precision:.2f}')\n",
        "print(f'Recall: {rf_recall:.2f}')\n",
        "print(f'Roc_Auc: {rf_roc_auc:.2f}')\n",
        "print(f'F1: {rf_f1:.2f}')\n",
        "print(classification_report(y_test, y_pred_rf))\n",
        "\n",
        "print(\"\\nMatriz de confusão\")\n",
        "matrix = confusion_matrix(y_test, y_pred_rf)\n",
        "sns.heatmap(matrix, annot=True, cmap='Purples')"
      ],
      "metadata": {
        "colab": {
          "base_uri": "https://localhost:8080/",
          "height": 1000
        },
        "id": "9zTefEYAzq_K",
        "outputId": "631d1c2b-666a-412c-b6cc-f6db4c77c349"
      },
      "execution_count": null,
      "outputs": [
        {
          "output_type": "stream",
          "name": "stdout",
          "text": [
            "Collecting scikit-optimize\n",
            "  Downloading scikit_optimize-0.10.2-py2.py3-none-any.whl.metadata (9.7 kB)\n",
            "Requirement already satisfied: joblib>=0.11 in /usr/local/lib/python3.10/dist-packages (from scikit-optimize) (1.4.2)\n",
            "Collecting pyaml>=16.9 (from scikit-optimize)\n",
            "  Downloading pyaml-24.7.0-py3-none-any.whl.metadata (11 kB)\n",
            "Requirement already satisfied: numpy>=1.20.3 in /usr/local/lib/python3.10/dist-packages (from scikit-optimize) (1.26.4)\n",
            "Requirement already satisfied: scipy>=1.1.0 in /usr/local/lib/python3.10/dist-packages (from scikit-optimize) (1.13.1)\n",
            "Requirement already satisfied: scikit-learn>=1.0.0 in /usr/local/lib/python3.10/dist-packages (from scikit-optimize) (1.3.2)\n",
            "Requirement already satisfied: packaging>=21.3 in /usr/local/lib/python3.10/dist-packages (from scikit-optimize) (24.1)\n",
            "Requirement already satisfied: PyYAML in /usr/local/lib/python3.10/dist-packages (from pyaml>=16.9->scikit-optimize) (6.0.1)\n",
            "Requirement already satisfied: threadpoolctl>=2.0.0 in /usr/local/lib/python3.10/dist-packages (from scikit-learn>=1.0.0->scikit-optimize) (3.5.0)\n",
            "Downloading scikit_optimize-0.10.2-py2.py3-none-any.whl (107 kB)\n",
            "\u001b[2K   \u001b[90m━━━━━━━━━━━━━━━━━━━━━━━━━━━━━━━━━━━━━━━━\u001b[0m \u001b[32m107.8/107.8 kB\u001b[0m \u001b[31m3.4 MB/s\u001b[0m eta \u001b[36m0:00:00\u001b[0m\n",
            "\u001b[?25hDownloading pyaml-24.7.0-py3-none-any.whl (24 kB)\n",
            "Installing collected packages: pyaml, scikit-optimize\n",
            "Successfully installed pyaml-24.7.0 scikit-optimize-0.10.2\n",
            "Random Forest Classifier (Bayesian Optimization):\n",
            "Acurácia: 0.86\n",
            "Precisão: 0.44\n",
            "Recall: 0.74\n",
            "Roc_Auc: 0.91\n",
            "F1: 0.55\n",
            "              precision    recall  f1-score   support\n",
            "\n",
            "         0.0       0.96      0.88      0.92      7061\n",
            "         1.0       0.44      0.74      0.55       889\n",
            "\n",
            "    accuracy                           0.86      7950\n",
            "   macro avg       0.70      0.81      0.74      7950\n",
            "weighted avg       0.91      0.86      0.88      7950\n",
            "\n",
            "\n",
            "Matriz de confusão\n"
          ]
        },
        {
          "output_type": "execute_result",
          "data": {
            "text/plain": [
              "<Axes: >"
            ]
          },
          "metadata": {},
          "execution_count": 4
        },
        {
          "output_type": "display_data",
          "data": {
            "text/plain": [
              "<Figure size 640x480 with 2 Axes>"
            ],
            "image/png": "[encoded data removed]"
          },
          "metadata": {}
        }
      ]
    },
    {
      "cell_type": "code",
      "source": [
        "# Imprimir os melhores hiperparâmetros\n",
        "print(\"Melhores hiperparâmetros encontrados:\")\n",
        "print(opt.best_params_)\n",
        "#Melhores hiperparâmetros encontrados:\n",
        "#OrderedDict([('max_depth', 50), ('max_features', 0.1), ('min_samples_leaf', 1), ('min_samples_split', 2), ('n_estimators', 500)])\n"
      ],
      "metadata": {
        "colab": {
          "base_uri": "https://localhost:8080/"
        },
        "id": "xYa2ZdgUL2uH",
        "outputId": "b816e644-cccf-4068-9f96-2c4c020da0ce"
      },
      "execution_count": null,
      "outputs": [
        {
          "output_type": "stream",
          "name": "stdout",
          "text": [
            "Melhores hiperparâmetros encontrados:\n",
            "OrderedDict([('max_depth', 50), ('max_features', 0.1), ('min_samples_leaf', 1), ('min_samples_split', 2), ('n_estimators', 500)])\n"
          ]
        }
      ]
    }
  ]
}